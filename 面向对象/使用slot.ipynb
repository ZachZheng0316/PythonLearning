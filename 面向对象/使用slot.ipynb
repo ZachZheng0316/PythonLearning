{
 "cells": [
  {
   "cell_type": "code",
   "execution_count": null,
   "metadata": {},
   "outputs": [],
   "source": [
    "## 动态地给实例绑定属性和方法"
   ]
  },
  {
   "cell_type": "code",
   "execution_count": 2,
   "metadata": {},
   "outputs": [
    {
     "name": "stdout",
     "output_type": "stream",
     "text": [
      "s.name:  Zach\n",
      "s.age:  25\n"
     ]
    }
   ],
   "source": [
    "from types import MethodType\n",
    "\n",
    "class Student(object):\n",
    "    pass\n",
    "\n",
    "def set_age(self, age):\n",
    "    self.age = age\n",
    "    \n",
    "s = Student()\n",
    "s.name = \"Zach\" # 动态的绑定一个属性\n",
    "s.set_age = MethodType(set_age, s) # 动态的绑定一个方法\n",
    "s.set_age(25)\n",
    "print(\"s.name: \", s.name)\n",
    "print(\"s.age: \", s.age)"
   ]
  },
  {
   "cell_type": "code",
   "execution_count": null,
   "metadata": {},
   "outputs": [],
   "source": [
    "## 动态地给class绑定属性和方法\n",
    "\n",
    "给class动态的绑定属性和方法，这样每一个集成的实例都会拥有该属性和方法"
   ]
  },
  {
   "cell_type": "code",
   "execution_count": 3,
   "metadata": {},
   "outputs": [
    {
     "name": "stdout",
     "output_type": "stream",
     "text": [
      "s.name:  Zach\n",
      "s.age:  25\n"
     ]
    }
   ],
   "source": [
    "class Student(object):\n",
    "    pass\n",
    "\n",
    "def set_age(self, age):\n",
    "    self.age = age\n",
    "\n",
    "def __init__(self, name):\n",
    "    self.name = name\n",
    "    \n",
    "Student.__init__ = __init__ # 动态绑定属性和方法\n",
    "Student.set_age = set_age\n",
    "\n",
    "s = Student(\"Zach\")\n",
    "s.set_age(25)\n",
    "print(\"s.name: \", s.name)\n",
    "print(\"s.age: \", s.age)\n"
   ]
  },
  {
   "cell_type": "code",
   "execution_count": null,
   "metadata": {},
   "outputs": [],
   "source": [
    "## 使用`__slot__`：限制实例添加的属性\n",
    "\n",
    "使用`__slot__`定义的属性仅仅只对当前实例有效，对子类是无效的"
   ]
  },
  {
   "cell_type": "code",
   "execution_count": 6,
   "metadata": {},
   "outputs": [
    {
     "name": "stdout",
     "output_type": "stream",
     "text": [
      "s.score:  98\n"
     ]
    }
   ],
   "source": [
    "class Student(object):\n",
    "    __slot__ = ('name', 'age') # 用tuple定义运行添加的属性\n",
    "    \n",
    "s = Student()\n",
    "s.name = 'Zach'\n",
    "s.age = 25\n",
    "s.score = 98 # 属性score不在__slot__内, 会报错AttributeError\n",
    "\n",
    "print(\"s.score: \", s.score) # 哈,怎么仍然能够打印出来呢，奇怪？"
   ]
  },
  {
   "cell_type": "code",
   "execution_count": null,
   "metadata": {},
   "outputs": [],
   "source": []
  }
 ],
 "metadata": {
  "kernelspec": {
   "display_name": "Python 3",
   "language": "python",
   "name": "python3"
  },
  "language_info": {
   "codemirror_mode": {
    "name": "ipython",
    "version": 3
   },
   "file_extension": ".py",
   "mimetype": "text/x-python",
   "name": "python",
   "nbconvert_exporter": "python",
   "pygments_lexer": "ipython3",
   "version": "3.6.5"
  }
 },
 "nbformat": 4,
 "nbformat_minor": 2
}
